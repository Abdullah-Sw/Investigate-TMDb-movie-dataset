{
 "cells": [
  {
   "cell_type": "markdown",
   "metadata": {},
   "source": [
    "\n",
    "# Project: Investigate a Dataset (TMDb movies)\n",
    "\n",
    "## Table of Contents\n",
    "<ul>\n",
    "<li><a href=\"#intro\">Introduction</a></li>\n",
    "<li><a href=\"#wrangling\">Data Wrangling</a></li>\n",
    "<li><a href=\"#eda\">Exploratory Data Analysis</a></li>\n",
    "<li><a href=\"#conclusions\">Conclusions</a></li>\n",
    "</ul>"
   ]
  },
  {
   "cell_type": "markdown",
   "metadata": {},
   "source": [
    "<a id='intro'></a>\n",
    "## Introduction\n",
    "\n",
    "> My name is Abdullah Alsuwailem.<br> First of all, This data set contains information about 10,000 movies collected from The Movie Database (TMDb), including user ratings and revenue.\n",
    "In this project I will analyze the data by cleaning them and asking some questions, which I will try to answer them.<br><br>\n",
    "Questions we can analyze in this dataset:<br>\n",
    "1- Does movies increase every year or decrease?<br>\n",
    "2- What happens to the popularity of the movies every year?<br>\n",
    "3- What is the minimum runtime of all the movies?<br>\n",
    "4- Which genre has the highest movies?<br>\n",
    "5- Which movie has the highest profit?<br><br>\n",
    "Let's get started!\n"
   ]
  },
  {
   "cell_type": "code",
   "execution_count": 111,
   "metadata": {},
   "outputs": [],
   "source": [
    "# import statements for all of the packages that I plan to use.\n",
    "import pandas as pd\n",
    "import numpy as np\n",
    "import matplotlib.pyplot as plt\n",
    "%matplotlib inline\n",
    "import seaborn as sns"
   ]
  },
  {
   "cell_type": "markdown",
   "metadata": {},
   "source": [
    "<a id='wrangling'></a>\n",
    "## Data Wrangling\n",
    "\n",
    "> In this section of the report, I will load the data, check for its columns, and then try to understand it for the cleaning process.\n",
    "\n",
    "### General Properties"
   ]
  },
  {
   "cell_type": "code",
   "execution_count": 112,
   "metadata": {},
   "outputs": [
    {
     "data": {
      "text/html": [
       "<div>\n",
       "<style scoped>\n",
       "    .dataframe tbody tr th:only-of-type {\n",
       "        vertical-align: middle;\n",
       "    }\n",
       "\n",
       "    .dataframe tbody tr th {\n",
       "        vertical-align: top;\n",
       "    }\n",
       "\n",
       "    .dataframe thead th {\n",
       "        text-align: right;\n",
       "    }\n",
       "</style>\n",
       "<table border=\"1\" class=\"dataframe\">\n",
       "  <thead>\n",
       "    <tr style=\"text-align: right;\">\n",
       "      <th></th>\n",
       "      <th>id</th>\n",
       "      <th>imdb_id</th>\n",
       "      <th>popularity</th>\n",
       "      <th>budget</th>\n",
       "      <th>revenue</th>\n",
       "      <th>original_title</th>\n",
       "      <th>cast</th>\n",
       "      <th>homepage</th>\n",
       "      <th>director</th>\n",
       "      <th>tagline</th>\n",
       "      <th>...</th>\n",
       "      <th>overview</th>\n",
       "      <th>runtime</th>\n",
       "      <th>genres</th>\n",
       "      <th>production_companies</th>\n",
       "      <th>release_date</th>\n",
       "      <th>vote_count</th>\n",
       "      <th>vote_average</th>\n",
       "      <th>release_year</th>\n",
       "      <th>budget_adj</th>\n",
       "      <th>revenue_adj</th>\n",
       "    </tr>\n",
       "  </thead>\n",
       "  <tbody>\n",
       "    <tr>\n",
       "      <th>0</th>\n",
       "      <td>135397</td>\n",
       "      <td>tt0369610</td>\n",
       "      <td>32.985763</td>\n",
       "      <td>150000000</td>\n",
       "      <td>1513528810</td>\n",
       "      <td>Jurassic World</td>\n",
       "      <td>Chris Pratt|Bryce Dallas Howard|Irrfan Khan|Vi...</td>\n",
       "      <td>http://www.jurassicworld.com/</td>\n",
       "      <td>Colin Trevorrow</td>\n",
       "      <td>The park is open.</td>\n",
       "      <td>...</td>\n",
       "      <td>Twenty-two years after the events of Jurassic ...</td>\n",
       "      <td>124</td>\n",
       "      <td>Action|Adventure|Science Fiction|Thriller</td>\n",
       "      <td>Universal Studios|Amblin Entertainment|Legenda...</td>\n",
       "      <td>6/9/15</td>\n",
       "      <td>5562</td>\n",
       "      <td>6.5</td>\n",
       "      <td>2015</td>\n",
       "      <td>1.379999e+08</td>\n",
       "      <td>1.392446e+09</td>\n",
       "    </tr>\n",
       "    <tr>\n",
       "      <th>1</th>\n",
       "      <td>76341</td>\n",
       "      <td>tt1392190</td>\n",
       "      <td>28.419936</td>\n",
       "      <td>150000000</td>\n",
       "      <td>378436354</td>\n",
       "      <td>Mad Max: Fury Road</td>\n",
       "      <td>Tom Hardy|Charlize Theron|Hugh Keays-Byrne|Nic...</td>\n",
       "      <td>http://www.madmaxmovie.com/</td>\n",
       "      <td>George Miller</td>\n",
       "      <td>What a Lovely Day.</td>\n",
       "      <td>...</td>\n",
       "      <td>An apocalyptic story set in the furthest reach...</td>\n",
       "      <td>120</td>\n",
       "      <td>Action|Adventure|Science Fiction|Thriller</td>\n",
       "      <td>Village Roadshow Pictures|Kennedy Miller Produ...</td>\n",
       "      <td>5/13/15</td>\n",
       "      <td>6185</td>\n",
       "      <td>7.1</td>\n",
       "      <td>2015</td>\n",
       "      <td>1.379999e+08</td>\n",
       "      <td>3.481613e+08</td>\n",
       "    </tr>\n",
       "    <tr>\n",
       "      <th>2</th>\n",
       "      <td>262500</td>\n",
       "      <td>tt2908446</td>\n",
       "      <td>13.112507</td>\n",
       "      <td>110000000</td>\n",
       "      <td>295238201</td>\n",
       "      <td>Insurgent</td>\n",
       "      <td>Shailene Woodley|Theo James|Kate Winslet|Ansel...</td>\n",
       "      <td>http://www.thedivergentseries.movie/#insurgent</td>\n",
       "      <td>Robert Schwentke</td>\n",
       "      <td>One Choice Can Destroy You</td>\n",
       "      <td>...</td>\n",
       "      <td>Beatrice Prior must confront her inner demons ...</td>\n",
       "      <td>119</td>\n",
       "      <td>Adventure|Science Fiction|Thriller</td>\n",
       "      <td>Summit Entertainment|Mandeville Films|Red Wago...</td>\n",
       "      <td>3/18/15</td>\n",
       "      <td>2480</td>\n",
       "      <td>6.3</td>\n",
       "      <td>2015</td>\n",
       "      <td>1.012000e+08</td>\n",
       "      <td>2.716190e+08</td>\n",
       "    </tr>\n",
       "    <tr>\n",
       "      <th>3</th>\n",
       "      <td>140607</td>\n",
       "      <td>tt2488496</td>\n",
       "      <td>11.173104</td>\n",
       "      <td>200000000</td>\n",
       "      <td>2068178225</td>\n",
       "      <td>Star Wars: The Force Awakens</td>\n",
       "      <td>Harrison Ford|Mark Hamill|Carrie Fisher|Adam D...</td>\n",
       "      <td>http://www.starwars.com/films/star-wars-episod...</td>\n",
       "      <td>J.J. Abrams</td>\n",
       "      <td>Every generation has a story.</td>\n",
       "      <td>...</td>\n",
       "      <td>Thirty years after defeating the Galactic Empi...</td>\n",
       "      <td>136</td>\n",
       "      <td>Action|Adventure|Science Fiction|Fantasy</td>\n",
       "      <td>Lucasfilm|Truenorth Productions|Bad Robot</td>\n",
       "      <td>12/15/15</td>\n",
       "      <td>5292</td>\n",
       "      <td>7.5</td>\n",
       "      <td>2015</td>\n",
       "      <td>1.839999e+08</td>\n",
       "      <td>1.902723e+09</td>\n",
       "    </tr>\n",
       "    <tr>\n",
       "      <th>4</th>\n",
       "      <td>168259</td>\n",
       "      <td>tt2820852</td>\n",
       "      <td>9.335014</td>\n",
       "      <td>190000000</td>\n",
       "      <td>1506249360</td>\n",
       "      <td>Furious 7</td>\n",
       "      <td>Vin Diesel|Paul Walker|Jason Statham|Michelle ...</td>\n",
       "      <td>http://www.furious7.com/</td>\n",
       "      <td>James Wan</td>\n",
       "      <td>Vengeance Hits Home</td>\n",
       "      <td>...</td>\n",
       "      <td>Deckard Shaw seeks revenge against Dominic Tor...</td>\n",
       "      <td>137</td>\n",
       "      <td>Action|Crime|Thriller</td>\n",
       "      <td>Universal Pictures|Original Film|Media Rights ...</td>\n",
       "      <td>4/1/15</td>\n",
       "      <td>2947</td>\n",
       "      <td>7.3</td>\n",
       "      <td>2015</td>\n",
       "      <td>1.747999e+08</td>\n",
       "      <td>1.385749e+09</td>\n",
       "    </tr>\n",
       "  </tbody>\n",
       "</table>\n",
       "<p>5 rows × 21 columns</p>\n",
       "</div>"
      ],
      "text/plain": [
       "       id    imdb_id  popularity     budget     revenue  \\\n",
       "0  135397  tt0369610   32.985763  150000000  1513528810   \n",
       "1   76341  tt1392190   28.419936  150000000   378436354   \n",
       "2  262500  tt2908446   13.112507  110000000   295238201   \n",
       "3  140607  tt2488496   11.173104  200000000  2068178225   \n",
       "4  168259  tt2820852    9.335014  190000000  1506249360   \n",
       "\n",
       "                 original_title  \\\n",
       "0                Jurassic World   \n",
       "1            Mad Max: Fury Road   \n",
       "2                     Insurgent   \n",
       "3  Star Wars: The Force Awakens   \n",
       "4                     Furious 7   \n",
       "\n",
       "                                                cast  \\\n",
       "0  Chris Pratt|Bryce Dallas Howard|Irrfan Khan|Vi...   \n",
       "1  Tom Hardy|Charlize Theron|Hugh Keays-Byrne|Nic...   \n",
       "2  Shailene Woodley|Theo James|Kate Winslet|Ansel...   \n",
       "3  Harrison Ford|Mark Hamill|Carrie Fisher|Adam D...   \n",
       "4  Vin Diesel|Paul Walker|Jason Statham|Michelle ...   \n",
       "\n",
       "                                            homepage          director  \\\n",
       "0                      http://www.jurassicworld.com/   Colin Trevorrow   \n",
       "1                        http://www.madmaxmovie.com/     George Miller   \n",
       "2     http://www.thedivergentseries.movie/#insurgent  Robert Schwentke   \n",
       "3  http://www.starwars.com/films/star-wars-episod...       J.J. Abrams   \n",
       "4                           http://www.furious7.com/         James Wan   \n",
       "\n",
       "                         tagline  ...  \\\n",
       "0              The park is open.  ...   \n",
       "1             What a Lovely Day.  ...   \n",
       "2     One Choice Can Destroy You  ...   \n",
       "3  Every generation has a story.  ...   \n",
       "4            Vengeance Hits Home  ...   \n",
       "\n",
       "                                            overview runtime  \\\n",
       "0  Twenty-two years after the events of Jurassic ...     124   \n",
       "1  An apocalyptic story set in the furthest reach...     120   \n",
       "2  Beatrice Prior must confront her inner demons ...     119   \n",
       "3  Thirty years after defeating the Galactic Empi...     136   \n",
       "4  Deckard Shaw seeks revenge against Dominic Tor...     137   \n",
       "\n",
       "                                      genres  \\\n",
       "0  Action|Adventure|Science Fiction|Thriller   \n",
       "1  Action|Adventure|Science Fiction|Thriller   \n",
       "2         Adventure|Science Fiction|Thriller   \n",
       "3   Action|Adventure|Science Fiction|Fantasy   \n",
       "4                      Action|Crime|Thriller   \n",
       "\n",
       "                                production_companies release_date vote_count  \\\n",
       "0  Universal Studios|Amblin Entertainment|Legenda...       6/9/15       5562   \n",
       "1  Village Roadshow Pictures|Kennedy Miller Produ...      5/13/15       6185   \n",
       "2  Summit Entertainment|Mandeville Films|Red Wago...      3/18/15       2480   \n",
       "3          Lucasfilm|Truenorth Productions|Bad Robot     12/15/15       5292   \n",
       "4  Universal Pictures|Original Film|Media Rights ...       4/1/15       2947   \n",
       "\n",
       "   vote_average  release_year    budget_adj   revenue_adj  \n",
       "0           6.5          2015  1.379999e+08  1.392446e+09  \n",
       "1           7.1          2015  1.379999e+08  3.481613e+08  \n",
       "2           6.3          2015  1.012000e+08  2.716190e+08  \n",
       "3           7.5          2015  1.839999e+08  1.902723e+09  \n",
       "4           7.3          2015  1.747999e+08  1.385749e+09  \n",
       "\n",
       "[5 rows x 21 columns]"
      ]
     },
     "execution_count": 112,
     "metadata": {},
     "output_type": "execute_result"
    }
   ],
   "source": [
    "# Load the data\n",
    "mov = pd.read_csv('tmdb-movies.csv')\n",
    "mov.head()"
   ]
  },
  {
   "cell_type": "code",
   "execution_count": 113,
   "metadata": {},
   "outputs": [
    {
     "name": "stdout",
     "output_type": "stream",
     "text": [
      "<class 'pandas.core.frame.DataFrame'>\n",
      "RangeIndex: 10866 entries, 0 to 10865\n",
      "Data columns (total 21 columns):\n",
      " #   Column                Non-Null Count  Dtype  \n",
      "---  ------                --------------  -----  \n",
      " 0   id                    10866 non-null  int64  \n",
      " 1   imdb_id               10856 non-null  object \n",
      " 2   popularity            10866 non-null  float64\n",
      " 3   budget                10866 non-null  int64  \n",
      " 4   revenue               10866 non-null  int64  \n",
      " 5   original_title        10866 non-null  object \n",
      " 6   cast                  10790 non-null  object \n",
      " 7   homepage              2936 non-null   object \n",
      " 8   director              10822 non-null  object \n",
      " 9   tagline               8042 non-null   object \n",
      " 10  keywords              9373 non-null   object \n",
      " 11  overview              10862 non-null  object \n",
      " 12  runtime               10866 non-null  int64  \n",
      " 13  genres                10843 non-null  object \n",
      " 14  production_companies  9836 non-null   object \n",
      " 15  release_date          10866 non-null  object \n",
      " 16  vote_count            10866 non-null  int64  \n",
      " 17  vote_average          10866 non-null  float64\n",
      " 18  release_year          10866 non-null  int64  \n",
      " 19  budget_adj            10866 non-null  float64\n",
      " 20  revenue_adj           10866 non-null  float64\n",
      "dtypes: float64(4), int64(6), object(11)\n",
      "memory usage: 1.7+ MB\n"
     ]
    }
   ],
   "source": [
    "mov.info()"
   ]
  },
  {
   "cell_type": "markdown",
   "metadata": {},
   "source": [
    ">Now, after I loaded the dataset and checked its columns I understand what this data focuses on.<br>\n",
    "And as I noticed, The final two columns ending with “_adj” show the budget and revenue of the associated movie in terms of 2010 dollars.<br>\n",
    "I'm going to ignore them and keep revenue and budget in the cleaning process\n",
    "\n",
    "### Data Cleaning (Remove duplicates, unnecessary and unused columns)"
   ]
  },
  {
   "cell_type": "code",
   "execution_count": 114,
   "metadata": {},
   "outputs": [
    {
     "data": {
      "text/plain": [
       "(10866, 21)"
      ]
     },
     "execution_count": 114,
     "metadata": {},
     "output_type": "execute_result"
    }
   ],
   "source": [
    "# Check before deleting the duplicates\n",
    "mov.shape"
   ]
  },
  {
   "cell_type": "code",
   "execution_count": 115,
   "metadata": {},
   "outputs": [
    {
     "data": {
      "text/plain": [
       "(10865, 21)"
      ]
     },
     "execution_count": 115,
     "metadata": {},
     "output_type": "execute_result"
    }
   ],
   "source": [
    "mov = mov.drop_duplicates()\n",
    "mov.shape"
   ]
  },
  {
   "cell_type": "code",
   "execution_count": 116,
   "metadata": {},
   "outputs": [
    {
     "data": {
      "text/plain": [
       "id                         0\n",
       "imdb_id                   10\n",
       "popularity                 0\n",
       "budget                     0\n",
       "revenue                    0\n",
       "original_title             0\n",
       "cast                      76\n",
       "homepage                7929\n",
       "director                  44\n",
       "tagline                 2824\n",
       "keywords                1493\n",
       "overview                   4\n",
       "runtime                    0\n",
       "genres                    23\n",
       "production_companies    1030\n",
       "release_date               0\n",
       "vote_count                 0\n",
       "vote_average               0\n",
       "release_year               0\n",
       "budget_adj                 0\n",
       "revenue_adj                0\n",
       "dtype: int64"
      ]
     },
     "execution_count": 116,
     "metadata": {},
     "output_type": "execute_result"
    }
   ],
   "source": [
    "# So we only had 1 duplicate and now its deleted\n",
    "# Let's check for nulls!\n",
    "mov.isnull().sum()"
   ]
  },
  {
   "cell_type": "code",
   "execution_count": 117,
   "metadata": {},
   "outputs": [
    {
     "data": {
      "text/plain": [
       "id                0\n",
       "popularity        0\n",
       "budget            0\n",
       "revenue           0\n",
       "original_title    0\n",
       "cast              0\n",
       "director          0\n",
       "runtime           0\n",
       "genres            0\n",
       "release_year      0\n",
       "dtype: int64"
      ]
     },
     "execution_count": 117,
     "metadata": {},
     "output_type": "execute_result"
    }
   ],
   "source": [
    "# Get rid of unnecessary columns\n",
    "mov = mov.drop(['imdb_id','homepage','budget_adj','revenue_adj','tagline','overview','release_date','keywords',\n",
    "               'production_companies','vote_count','vote_average'], axis = 1)\n",
    "# Remove null rows\n",
    "mov = mov.dropna()\n",
    "mov.isnull().sum()"
   ]
  },
  {
   "cell_type": "code",
   "execution_count": 118,
   "metadata": {},
   "outputs": [
    {
     "name": "stdout",
     "output_type": "stream",
     "text": [
      "<class 'pandas.core.frame.DataFrame'>\n",
      "Int64Index: 10731 entries, 0 to 10865\n",
      "Data columns (total 10 columns):\n",
      " #   Column          Non-Null Count  Dtype  \n",
      "---  ------          --------------  -----  \n",
      " 0   id              10731 non-null  int64  \n",
      " 1   popularity      10731 non-null  float64\n",
      " 2   budget          10731 non-null  int64  \n",
      " 3   revenue         10731 non-null  int64  \n",
      " 4   original_title  10731 non-null  object \n",
      " 5   cast            10731 non-null  object \n",
      " 6   director        10731 non-null  object \n",
      " 7   runtime         10731 non-null  int64  \n",
      " 8   genres          10731 non-null  object \n",
      " 9   release_year    10731 non-null  int64  \n",
      "dtypes: float64(1), int64(5), object(4)\n",
      "memory usage: 922.2+ KB\n"
     ]
    }
   ],
   "source": [
    "# Check after dropping every null row\n",
    "mov.info()"
   ]
  },
  {
   "cell_type": "code",
   "execution_count": 119,
   "metadata": {},
   "outputs": [
    {
     "data": {
      "text/plain": [
       "id                   0\n",
       "popularity           0\n",
       "budget            5578\n",
       "revenue           5888\n",
       "original_title       0\n",
       "cast                 0\n",
       "director             0\n",
       "runtime             28\n",
       "genres               0\n",
       "release_year         0\n",
       "dtype: int64"
      ]
     },
     "execution_count": 119,
     "metadata": {},
     "output_type": "execute_result"
    }
   ],
   "source": [
    "# Now,the dataset has been reduced to 10731\n",
    "\n",
    "# Every value contains zero in budget, revenue and runtime should change to NaN\n",
    "def replace_to_nan (var):\n",
    "    mov[var].replace(0,np.nan, inplace = True, regex = True)\n",
    "replace_to_nan('budget')\n",
    "replace_to_nan('revenue')\n",
    "replace_to_nan('runtime')\n",
    "mov.isnull().sum()"
   ]
  },
  {
   "cell_type": "code",
   "execution_count": 120,
   "metadata": {},
   "outputs": [
    {
     "name": "stdout",
     "output_type": "stream",
     "text": [
      "<class 'pandas.core.frame.DataFrame'>\n",
      "Int64Index: 10703 entries, 0 to 10865\n",
      "Data columns (total 10 columns):\n",
      " #   Column          Non-Null Count  Dtype  \n",
      "---  ------          --------------  -----  \n",
      " 0   id              10703 non-null  int64  \n",
      " 1   popularity      10703 non-null  float64\n",
      " 2   budget          10703 non-null  float64\n",
      " 3   revenue         10703 non-null  float64\n",
      " 4   original_title  10703 non-null  object \n",
      " 5   cast            10703 non-null  object \n",
      " 6   director        10703 non-null  object \n",
      " 7   runtime         10703 non-null  float64\n",
      " 8   genres          10703 non-null  object \n",
      " 9   release_year    10703 non-null  int64  \n",
      "dtypes: float64(4), int64(2), object(4)\n",
      "memory usage: 919.8+ KB\n"
     ]
    }
   ],
   "source": [
    "# Since we changed them to NaN, we have to drop runtime NaNs\n",
    "# However, before that we won't delete budge and revenue because they contain more than 5000 (almost half the data)\n",
    "def replace_to_zero(var):\n",
    "    mov[var].replace(np.nan,0, inplace = True, regex = True)\n",
    "replace_to_zero('budget')\n",
    "replace_to_zero('revenue')\n",
    "# budget and revenue returned to their original state\n",
    "mov = mov.dropna()\n",
    "# runtime nulls dropped\n",
    "mov.info()"
   ]
  },
  {
   "cell_type": "markdown",
   "metadata": {},
   "source": [
    "### Looks like the data has been cleaned and reduced to 10703 <br>I didn't delete the columns that contains zero in budget and revenue, because I don't want half the data to be deleted"
   ]
  },
  {
   "cell_type": "markdown",
   "metadata": {},
   "source": [
    "<a id='eda'></a>\n",
    "## Exploratory Data Analysis\n",
    "\n",
    "> Now, I will explore the data to answer some questions that I asked in the introduction, then I'm going to plot various visualizations.\n"
   ]
  },
  {
   "cell_type": "markdown",
   "metadata": {},
   "source": [
    "### Research Question 1 (Does movies increase every year or decrease ?)"
   ]
  },
  {
   "cell_type": "code",
   "execution_count": 121,
   "metadata": {},
   "outputs": [
    {
     "data": {
      "text/html": [
       "<style  type=\"text/css\" >\n",
       "#T_c43d1_row0_col0{\n",
       "            width:  10em;\n",
       "             height:  80%;\n",
       "            background:  linear-gradient(90deg,#d65f5f 100.0%, transparent 100.0%);\n",
       "        }#T_c43d1_row1_col0{\n",
       "            width:  10em;\n",
       "             height:  80%;\n",
       "            background:  linear-gradient(90deg,#d65f5f 94.5%, transparent 94.5%);\n",
       "        }#T_c43d1_row2_col0{\n",
       "            width:  10em;\n",
       "             height:  80%;\n",
       "            background:  linear-gradient(90deg,#d65f5f 89.2%, transparent 89.2%);\n",
       "        }#T_c43d1_row3_col0{\n",
       "            width:  10em;\n",
       "             height:  80%;\n",
       "            background:  linear-gradient(90deg,#d65f5f 83.4%, transparent 83.4%);\n",
       "        }#T_c43d1_row4_col0{\n",
       "            width:  10em;\n",
       "             height:  80%;\n",
       "            background:  linear-gradient(90deg,#d65f5f 76.8%, transparent 76.8%);\n",
       "        }#T_c43d1_row5_col0{\n",
       "            width:  10em;\n",
       "             height:  80%;\n",
       "            background:  linear-gradient(90deg,#d65f5f 76.0%, transparent 76.0%);\n",
       "        }#T_c43d1_row6_col0{\n",
       "            width:  10em;\n",
       "             height:  80%;\n",
       "            background:  linear-gradient(90deg,#d65f5f 70.0%, transparent 70.0%);\n",
       "        }#T_c43d1_row7_col0{\n",
       "            width:  10em;\n",
       "             height:  80%;\n",
       "            background:  linear-gradient(90deg,#d65f5f 68.5%, transparent 68.5%);\n",
       "        }#T_c43d1_row8_col0{\n",
       "            width:  10em;\n",
       "             height:  80%;\n",
       "            background:  linear-gradient(90deg,#d65f5f 61.8%, transparent 61.8%);\n",
       "        }#T_c43d1_row9_col0{\n",
       "            width:  10em;\n",
       "             height:  80%;\n",
       "            background:  linear-gradient(90deg,#d65f5f 57.4%, transparent 57.4%);\n",
       "        }#T_c43d1_row10_col0{\n",
       "            width:  10em;\n",
       "             height:  80%;\n",
       "            background:  linear-gradient(90deg,#d65f5f 50.6%, transparent 50.6%);\n",
       "        }#T_c43d1_row11_col0{\n",
       "            width:  10em;\n",
       "             height:  80%;\n",
       "            background:  linear-gradient(90deg,#d65f5f 42.6%, transparent 42.6%);\n",
       "        }#T_c43d1_row12_col0{\n",
       "            width:  10em;\n",
       "             height:  80%;\n",
       "            background:  linear-gradient(90deg,#d65f5f 38.5%, transparent 38.5%);\n",
       "        }#T_c43d1_row13_col0{\n",
       "            width:  10em;\n",
       "             height:  80%;\n",
       "            background:  linear-gradient(90deg,#d65f5f 35.7%, transparent 35.7%);\n",
       "        }#T_c43d1_row14_col0{\n",
       "            width:  10em;\n",
       "             height:  80%;\n",
       "            background:  linear-gradient(90deg,#d65f5f 32.5%, transparent 32.5%);\n",
       "        }#T_c43d1_row15_col0{\n",
       "            width:  10em;\n",
       "             height:  80%;\n",
       "            background:  linear-gradient(90deg,#d65f5f 29.8%, transparent 29.8%);\n",
       "        }#T_c43d1_row16_col0{\n",
       "            width:  10em;\n",
       "             height:  80%;\n",
       "            background:  linear-gradient(90deg,#d65f5f 29.7%, transparent 29.7%);\n",
       "        }#T_c43d1_row17_col0{\n",
       "            width:  10em;\n",
       "             height:  80%;\n",
       "            background:  linear-gradient(90deg,#d65f5f 27.7%, transparent 27.7%);\n",
       "        }#T_c43d1_row18_col0{\n",
       "            width:  10em;\n",
       "             height:  80%;\n",
       "            background:  linear-gradient(90deg,#d65f5f 26.6%, transparent 26.6%);\n",
       "        }#T_c43d1_row19_col0{\n",
       "            width:  10em;\n",
       "             height:  80%;\n",
       "            background:  linear-gradient(90deg,#d65f5f 24.8%, transparent 24.8%);\n",
       "        }#T_c43d1_row20_col0{\n",
       "            width:  10em;\n",
       "             height:  80%;\n",
       "            background:  linear-gradient(90deg,#d65f5f 23.7%, transparent 23.7%);\n",
       "        }#T_c43d1_row21_col0{\n",
       "            width:  10em;\n",
       "             height:  80%;\n",
       "            background:  linear-gradient(90deg,#d65f5f 22.6%, transparent 22.6%);\n",
       "        }#T_c43d1_row22_col0{\n",
       "            width:  10em;\n",
       "             height:  80%;\n",
       "            background:  linear-gradient(90deg,#d65f5f 22.2%, transparent 22.2%);\n",
       "        }#T_c43d1_row23_col0{\n",
       "            width:  10em;\n",
       "             height:  80%;\n",
       "            background:  linear-gradient(90deg,#d65f5f 17.2%, transparent 17.2%);\n",
       "        }#T_c43d1_row24_col0{\n",
       "            width:  10em;\n",
       "             height:  80%;\n",
       "            background:  linear-gradient(90deg,#d65f5f 16.2%, transparent 16.2%);\n",
       "        }#T_c43d1_row25_col0{\n",
       "            width:  10em;\n",
       "             height:  80%;\n",
       "            background:  linear-gradient(90deg,#d65f5f 15.8%, transparent 15.8%);\n",
       "        }#T_c43d1_row26_col0,#T_c43d1_row27_col0{\n",
       "            width:  10em;\n",
       "             height:  80%;\n",
       "            background:  linear-gradient(90deg,#d65f5f 15.7%, transparent 15.7%);\n",
       "        }#T_c43d1_row28_col0{\n",
       "            width:  10em;\n",
       "             height:  80%;\n",
       "            background:  linear-gradient(90deg,#d65f5f 14.5%, transparent 14.5%);\n",
       "        }#T_c43d1_row29_col0{\n",
       "            width:  10em;\n",
       "             height:  80%;\n",
       "            background:  linear-gradient(90deg,#d65f5f 13.8%, transparent 13.8%);\n",
       "        }#T_c43d1_row30_col0{\n",
       "            width:  10em;\n",
       "             height:  80%;\n",
       "            background:  linear-gradient(90deg,#d65f5f 12.0%, transparent 12.0%);\n",
       "        }#T_c43d1_row31_col0{\n",
       "            width:  10em;\n",
       "             height:  80%;\n",
       "            background:  linear-gradient(90deg,#d65f5f 11.4%, transparent 11.4%);\n",
       "        }#T_c43d1_row32_col0{\n",
       "            width:  10em;\n",
       "             height:  80%;\n",
       "            background:  linear-gradient(90deg,#d65f5f 8.0%, transparent 8.0%);\n",
       "        }#T_c43d1_row33_col0{\n",
       "            width:  10em;\n",
       "             height:  80%;\n",
       "            background:  linear-gradient(90deg,#d65f5f 7.8%, transparent 7.8%);\n",
       "        }#T_c43d1_row34_col0{\n",
       "            width:  10em;\n",
       "             height:  80%;\n",
       "            background:  linear-gradient(90deg,#d65f5f 7.7%, transparent 7.7%);\n",
       "        }#T_c43d1_row35_col0{\n",
       "            width:  10em;\n",
       "             height:  80%;\n",
       "            background:  linear-gradient(90deg,#d65f5f 7.4%, transparent 7.4%);\n",
       "        }#T_c43d1_row36_col0{\n",
       "            width:  10em;\n",
       "             height:  80%;\n",
       "            background:  linear-gradient(90deg,#d65f5f 5.4%, transparent 5.4%);\n",
       "        }#T_c43d1_row37_col0{\n",
       "            width:  10em;\n",
       "             height:  80%;\n",
       "            background:  linear-gradient(90deg,#d65f5f 4.2%, transparent 4.2%);\n",
       "        }#T_c43d1_row38_col0{\n",
       "            width:  10em;\n",
       "             height:  80%;\n",
       "            background:  linear-gradient(90deg,#d65f5f 4.0%, transparent 4.0%);\n",
       "        }#T_c43d1_row39_col0,#T_c43d1_row40_col0{\n",
       "            width:  10em;\n",
       "             height:  80%;\n",
       "            background:  linear-gradient(90deg,#d65f5f 3.8%, transparent 3.8%);\n",
       "        }#T_c43d1_row41_col0{\n",
       "            width:  10em;\n",
       "             height:  80%;\n",
       "            background:  linear-gradient(90deg,#d65f5f 2.6%, transparent 2.6%);\n",
       "        }#T_c43d1_row42_col0,#T_c43d1_row43_col0{\n",
       "            width:  10em;\n",
       "             height:  80%;\n",
       "            background:  linear-gradient(90deg,#d65f5f 2.5%, transparent 2.5%);\n",
       "        }#T_c43d1_row44_col0{\n",
       "            width:  10em;\n",
       "             height:  80%;\n",
       "            background:  linear-gradient(90deg,#d65f5f 2.2%, transparent 2.2%);\n",
       "        }#T_c43d1_row45_col0{\n",
       "            width:  10em;\n",
       "             height:  80%;\n",
       "            background:  linear-gradient(90deg,#d65f5f 1.8%, transparent 1.8%);\n",
       "        }#T_c43d1_row46_col0,#T_c43d1_row47_col0{\n",
       "            width:  10em;\n",
       "             height:  80%;\n",
       "            background:  linear-gradient(90deg,#d65f5f 1.5%, transparent 1.5%);\n",
       "        }#T_c43d1_row48_col0,#T_c43d1_row49_col0{\n",
       "            width:  10em;\n",
       "             height:  80%;\n",
       "            background:  linear-gradient(90deg,#d65f5f 1.2%, transparent 1.2%);\n",
       "        }#T_c43d1_row50_col0{\n",
       "            width:  10em;\n",
       "             height:  80%;\n",
       "            background:  linear-gradient(90deg,#d65f5f 0.8%, transparent 0.8%);\n",
       "        }#T_c43d1_row51_col0{\n",
       "            width:  10em;\n",
       "             height:  80%;\n",
       "            background:  linear-gradient(90deg,#d65f5f 0.6%, transparent 0.6%);\n",
       "        }#T_c43d1_row52_col0,#T_c43d1_row53_col0{\n",
       "            width:  10em;\n",
       "             height:  80%;\n",
       "            background:  linear-gradient(90deg,#d65f5f 0.3%, transparent 0.3%);\n",
       "        }#T_c43d1_row54_col0{\n",
       "            width:  10em;\n",
       "             height:  80%;\n",
       "            background:  linear-gradient(90deg,#d65f5f 0.2%, transparent 0.2%);\n",
       "        }#T_c43d1_row55_col0{\n",
       "            width:  10em;\n",
       "             height:  80%;\n",
       "        }</style><table id=\"T_c43d1_\" ><thead>    <tr>        <th class=\"blank level0\" ></th>        <th class=\"col_heading level0 col0\" >release_year</th>    </tr></thead><tbody>\n",
       "                <tr>\n",
       "                        <th id=\"T_c43d1_level0_row0\" class=\"row_heading level0 row0\" >2014</th>\n",
       "                        <td id=\"T_c43d1_row0_col0\" class=\"data row0 col0\" >680</td>\n",
       "            </tr>\n",
       "            <tr>\n",
       "                        <th id=\"T_c43d1_level0_row1\" class=\"row_heading level0 row1\" >2013</th>\n",
       "                        <td id=\"T_c43d1_row1_col0\" class=\"data row1 col0\" >644</td>\n",
       "            </tr>\n",
       "            <tr>\n",
       "                        <th id=\"T_c43d1_level0_row2\" class=\"row_heading level0 row2\" >2015</th>\n",
       "                        <td id=\"T_c43d1_row2_col0\" class=\"data row2 col0\" >610</td>\n",
       "            </tr>\n",
       "            <tr>\n",
       "                        <th id=\"T_c43d1_level0_row3\" class=\"row_heading level0 row3\" >2012</th>\n",
       "                        <td id=\"T_c43d1_row3_col0\" class=\"data row3 col0\" >572</td>\n",
       "            </tr>\n",
       "            <tr>\n",
       "                        <th id=\"T_c43d1_level0_row4\" class=\"row_heading level0 row4\" >2011</th>\n",
       "                        <td id=\"T_c43d1_row4_col0\" class=\"data row4 col0\" >529</td>\n",
       "            </tr>\n",
       "            <tr>\n",
       "                        <th id=\"T_c43d1_level0_row5\" class=\"row_heading level0 row5\" >2009</th>\n",
       "                        <td id=\"T_c43d1_row5_col0\" class=\"data row5 col0\" >524</td>\n",
       "            </tr>\n",
       "            <tr>\n",
       "                        <th id=\"T_c43d1_level0_row6\" class=\"row_heading level0 row6\" >2008</th>\n",
       "                        <td id=\"T_c43d1_row6_col0\" class=\"data row6 col0\" >485</td>\n",
       "            </tr>\n",
       "            <tr>\n",
       "                        <th id=\"T_c43d1_level0_row7\" class=\"row_heading level0 row7\" >2010</th>\n",
       "                        <td id=\"T_c43d1_row7_col0\" class=\"data row7 col0\" >475</td>\n",
       "            </tr>\n",
       "            <tr>\n",
       "                        <th id=\"T_c43d1_level0_row8\" class=\"row_heading level0 row8\" >2007</th>\n",
       "                        <td id=\"T_c43d1_row8_col0\" class=\"data row8 col0\" >432</td>\n",
       "            </tr>\n",
       "            <tr>\n",
       "                        <th id=\"T_c43d1_level0_row9\" class=\"row_heading level0 row9\" >2006</th>\n",
       "                        <td id=\"T_c43d1_row9_col0\" class=\"data row9 col0\" >403</td>\n",
       "            </tr>\n",
       "            <tr>\n",
       "                        <th id=\"T_c43d1_level0_row10\" class=\"row_heading level0 row10\" >2005</th>\n",
       "                        <td id=\"T_c43d1_row10_col0\" class=\"data row10 col0\" >359</td>\n",
       "            </tr>\n",
       "            <tr>\n",
       "                        <th id=\"T_c43d1_level0_row11\" class=\"row_heading level0 row11\" >2004</th>\n",
       "                        <td id=\"T_c43d1_row11_col0\" class=\"data row11 col0\" >307</td>\n",
       "            </tr>\n",
       "            <tr>\n",
       "                        <th id=\"T_c43d1_level0_row12\" class=\"row_heading level0 row12\" >2003</th>\n",
       "                        <td id=\"T_c43d1_row12_col0\" class=\"data row12 col0\" >280</td>\n",
       "            </tr>\n",
       "            <tr>\n",
       "                        <th id=\"T_c43d1_level0_row13\" class=\"row_heading level0 row13\" >2002</th>\n",
       "                        <td id=\"T_c43d1_row13_col0\" class=\"data row13 col0\" >262</td>\n",
       "            </tr>\n",
       "            <tr>\n",
       "                        <th id=\"T_c43d1_level0_row14\" class=\"row_heading level0 row14\" >2001</th>\n",
       "                        <td id=\"T_c43d1_row14_col0\" class=\"data row14 col0\" >241</td>\n",
       "            </tr>\n",
       "            <tr>\n",
       "                        <th id=\"T_c43d1_level0_row15\" class=\"row_heading level0 row15\" >1999</th>\n",
       "                        <td id=\"T_c43d1_row15_col0\" class=\"data row15 col0\" >224</td>\n",
       "            </tr>\n",
       "            <tr>\n",
       "                        <th id=\"T_c43d1_level0_row16\" class=\"row_heading level0 row16\" >2000</th>\n",
       "                        <td id=\"T_c43d1_row16_col0\" class=\"data row16 col0\" >223</td>\n",
       "            </tr>\n",
       "            <tr>\n",
       "                        <th id=\"T_c43d1_level0_row17\" class=\"row_heading level0 row17\" >1998</th>\n",
       "                        <td id=\"T_c43d1_row17_col0\" class=\"data row17 col0\" >210</td>\n",
       "            </tr>\n",
       "            <tr>\n",
       "                        <th id=\"T_c43d1_level0_row18\" class=\"row_heading level0 row18\" >1996</th>\n",
       "                        <td id=\"T_c43d1_row18_col0\" class=\"data row18 col0\" >203</td>\n",
       "            </tr>\n",
       "            <tr>\n",
       "                        <th id=\"T_c43d1_level0_row19\" class=\"row_heading level0 row19\" >1997</th>\n",
       "                        <td id=\"T_c43d1_row19_col0\" class=\"data row19 col0\" >191</td>\n",
       "            </tr>\n",
       "            <tr>\n",
       "                        <th id=\"T_c43d1_level0_row20\" class=\"row_heading level0 row20\" >1994</th>\n",
       "                        <td id=\"T_c43d1_row20_col0\" class=\"data row20 col0\" >184</td>\n",
       "            </tr>\n",
       "            <tr>\n",
       "                        <th id=\"T_c43d1_level0_row21\" class=\"row_heading level0 row21\" >1993</th>\n",
       "                        <td id=\"T_c43d1_row21_col0\" class=\"data row21 col0\" >177</td>\n",
       "            </tr>\n",
       "            <tr>\n",
       "                        <th id=\"T_c43d1_level0_row22\" class=\"row_heading level0 row22\" >1995</th>\n",
       "                        <td id=\"T_c43d1_row22_col0\" class=\"data row22 col0\" >174</td>\n",
       "            </tr>\n",
       "            <tr>\n",
       "                        <th id=\"T_c43d1_level0_row23\" class=\"row_heading level0 row23\" >1988</th>\n",
       "                        <td id=\"T_c43d1_row23_col0\" class=\"data row23 col0\" >142</td>\n",
       "            </tr>\n",
       "            <tr>\n",
       "                        <th id=\"T_c43d1_level0_row24\" class=\"row_heading level0 row24\" >1989</th>\n",
       "                        <td id=\"T_c43d1_row24_col0\" class=\"data row24 col0\" >135</td>\n",
       "            </tr>\n",
       "            <tr>\n",
       "                        <th id=\"T_c43d1_level0_row25\" class=\"row_heading level0 row25\" >1991</th>\n",
       "                        <td id=\"T_c43d1_row25_col0\" class=\"data row25 col0\" >133</td>\n",
       "            </tr>\n",
       "            <tr>\n",
       "                        <th id=\"T_c43d1_level0_row26\" class=\"row_heading level0 row26\" >1990</th>\n",
       "                        <td id=\"T_c43d1_row26_col0\" class=\"data row26 col0\" >132</td>\n",
       "            </tr>\n",
       "            <tr>\n",
       "                        <th id=\"T_c43d1_level0_row27\" class=\"row_heading level0 row27\" >1992</th>\n",
       "                        <td id=\"T_c43d1_row27_col0\" class=\"data row27 col0\" >132</td>\n",
       "            </tr>\n",
       "            <tr>\n",
       "                        <th id=\"T_c43d1_level0_row28\" class=\"row_heading level0 row28\" >1987</th>\n",
       "                        <td id=\"T_c43d1_row28_col0\" class=\"data row28 col0\" >124</td>\n",
       "            </tr>\n",
       "            <tr>\n",
       "                        <th id=\"T_c43d1_level0_row29\" class=\"row_heading level0 row29\" >1986</th>\n",
       "                        <td id=\"T_c43d1_row29_col0\" class=\"data row29 col0\" >120</td>\n",
       "            </tr>\n",
       "            <tr>\n",
       "                        <th id=\"T_c43d1_level0_row30\" class=\"row_heading level0 row30\" >1985</th>\n",
       "                        <td id=\"T_c43d1_row30_col0\" class=\"data row30 col0\" >108</td>\n",
       "            </tr>\n",
       "            <tr>\n",
       "                        <th id=\"T_c43d1_level0_row31\" class=\"row_heading level0 row31\" >1984</th>\n",
       "                        <td id=\"T_c43d1_row31_col0\" class=\"data row31 col0\" >104</td>\n",
       "            </tr>\n",
       "            <tr>\n",
       "                        <th id=\"T_c43d1_level0_row32\" class=\"row_heading level0 row32\" >1981</th>\n",
       "                        <td id=\"T_c43d1_row32_col0\" class=\"data row32 col0\" >82</td>\n",
       "            </tr>\n",
       "            <tr>\n",
       "                        <th id=\"T_c43d1_level0_row33\" class=\"row_heading level0 row33\" >1982</th>\n",
       "                        <td id=\"T_c43d1_row33_col0\" class=\"data row33 col0\" >81</td>\n",
       "            </tr>\n",
       "            <tr>\n",
       "                        <th id=\"T_c43d1_level0_row34\" class=\"row_heading level0 row34\" >1983</th>\n",
       "                        <td id=\"T_c43d1_row34_col0\" class=\"data row34 col0\" >80</td>\n",
       "            </tr>\n",
       "            <tr>\n",
       "                        <th id=\"T_c43d1_level0_row35\" class=\"row_heading level0 row35\" >1980</th>\n",
       "                        <td id=\"T_c43d1_row35_col0\" class=\"data row35 col0\" >78</td>\n",
       "            </tr>\n",
       "            <tr>\n",
       "                        <th id=\"T_c43d1_level0_row36\" class=\"row_heading level0 row36\" >1978</th>\n",
       "                        <td id=\"T_c43d1_row36_col0\" class=\"data row36 col0\" >65</td>\n",
       "            </tr>\n",
       "            <tr>\n",
       "                        <th id=\"T_c43d1_level0_row37\" class=\"row_heading level0 row37\" >1979</th>\n",
       "                        <td id=\"T_c43d1_row37_col0\" class=\"data row37 col0\" >57</td>\n",
       "            </tr>\n",
       "            <tr>\n",
       "                        <th id=\"T_c43d1_level0_row38\" class=\"row_heading level0 row38\" >1977</th>\n",
       "                        <td id=\"T_c43d1_row38_col0\" class=\"data row38 col0\" >56</td>\n",
       "            </tr>\n",
       "            <tr>\n",
       "                        <th id=\"T_c43d1_level0_row39\" class=\"row_heading level0 row39\" >1973</th>\n",
       "                        <td id=\"T_c43d1_row39_col0\" class=\"data row39 col0\" >55</td>\n",
       "            </tr>\n",
       "            <tr>\n",
       "                        <th id=\"T_c43d1_level0_row40\" class=\"row_heading level0 row40\" >1971</th>\n",
       "                        <td id=\"T_c43d1_row40_col0\" class=\"data row40 col0\" >55</td>\n",
       "            </tr>\n",
       "            <tr>\n",
       "                        <th id=\"T_c43d1_level0_row41\" class=\"row_heading level0 row41\" >1976</th>\n",
       "                        <td id=\"T_c43d1_row41_col0\" class=\"data row41 col0\" >47</td>\n",
       "            </tr>\n",
       "            <tr>\n",
       "                        <th id=\"T_c43d1_level0_row42\" class=\"row_heading level0 row42\" >1966</th>\n",
       "                        <td id=\"T_c43d1_row42_col0\" class=\"data row42 col0\" >46</td>\n",
       "            </tr>\n",
       "            <tr>\n",
       "                        <th id=\"T_c43d1_level0_row43\" class=\"row_heading level0 row43\" >1974</th>\n",
       "                        <td id=\"T_c43d1_row43_col0\" class=\"data row43 col0\" >46</td>\n",
       "            </tr>\n",
       "            <tr>\n",
       "                        <th id=\"T_c43d1_level0_row44\" class=\"row_heading level0 row44\" >1975</th>\n",
       "                        <td id=\"T_c43d1_row44_col0\" class=\"data row44 col0\" >44</td>\n",
       "            </tr>\n",
       "            <tr>\n",
       "                        <th id=\"T_c43d1_level0_row45\" class=\"row_heading level0 row45\" >1964</th>\n",
       "                        <td id=\"T_c43d1_row45_col0\" class=\"data row45 col0\" >42</td>\n",
       "            </tr>\n",
       "            <tr>\n",
       "                        <th id=\"T_c43d1_level0_row46\" class=\"row_heading level0 row46\" >1972</th>\n",
       "                        <td id=\"T_c43d1_row46_col0\" class=\"data row46 col0\" >40</td>\n",
       "            </tr>\n",
       "            <tr>\n",
       "                        <th id=\"T_c43d1_level0_row47\" class=\"row_heading level0 row47\" >1970</th>\n",
       "                        <td id=\"T_c43d1_row47_col0\" class=\"data row47 col0\" >40</td>\n",
       "            </tr>\n",
       "            <tr>\n",
       "                        <th id=\"T_c43d1_level0_row48\" class=\"row_heading level0 row48\" >1968</th>\n",
       "                        <td id=\"T_c43d1_row48_col0\" class=\"data row48 col0\" >38</td>\n",
       "            </tr>\n",
       "            <tr>\n",
       "                        <th id=\"T_c43d1_level0_row49\" class=\"row_heading level0 row49\" >1967</th>\n",
       "                        <td id=\"T_c43d1_row49_col0\" class=\"data row49 col0\" >38</td>\n",
       "            </tr>\n",
       "            <tr>\n",
       "                        <th id=\"T_c43d1_level0_row50\" class=\"row_heading level0 row50\" >1965</th>\n",
       "                        <td id=\"T_c43d1_row50_col0\" class=\"data row50 col0\" >35</td>\n",
       "            </tr>\n",
       "            <tr>\n",
       "                        <th id=\"T_c43d1_level0_row51\" class=\"row_heading level0 row51\" >1963</th>\n",
       "                        <td id=\"T_c43d1_row51_col0\" class=\"data row51 col0\" >34</td>\n",
       "            </tr>\n",
       "            <tr>\n",
       "                        <th id=\"T_c43d1_level0_row52\" class=\"row_heading level0 row52\" >1962</th>\n",
       "                        <td id=\"T_c43d1_row52_col0\" class=\"data row52 col0\" >32</td>\n",
       "            </tr>\n",
       "            <tr>\n",
       "                        <th id=\"T_c43d1_level0_row53\" class=\"row_heading level0 row53\" >1960</th>\n",
       "                        <td id=\"T_c43d1_row53_col0\" class=\"data row53 col0\" >32</td>\n",
       "            </tr>\n",
       "            <tr>\n",
       "                        <th id=\"T_c43d1_level0_row54\" class=\"row_heading level0 row54\" >1961</th>\n",
       "                        <td id=\"T_c43d1_row54_col0\" class=\"data row54 col0\" >31</td>\n",
       "            </tr>\n",
       "            <tr>\n",
       "                        <th id=\"T_c43d1_level0_row55\" class=\"row_heading level0 row55\" >1969</th>\n",
       "                        <td id=\"T_c43d1_row55_col0\" class=\"data row55 col0\" >30</td>\n",
       "            </tr>\n",
       "    </tbody></table>"
      ],
      "text/plain": [
       "<pandas.io.formats.style.Styler at 0x2d8ca227dc0>"
      ]
     },
     "execution_count": 121,
     "metadata": {},
     "output_type": "execute_result"
    }
   ],
   "source": [
    "comparison = mov[\"release_year\"].value_counts().to_frame().style.bar()\n",
    "comparison"
   ]
  },
  {
   "cell_type": "markdown",
   "metadata": {},
   "source": [
    "##### As we can see, movies are increasing every year"
   ]
  },
  {
   "cell_type": "markdown",
   "metadata": {},
   "source": [
    "### Research Question 2  (What happens to the popularity of the movies every year ?)"
   ]
  },
  {
   "cell_type": "code",
   "execution_count": 122,
   "metadata": {},
   "outputs": [
    {
     "data": {
      "image/png": "[encoded data removed]",
      "text/plain": [
       "<Figure size 432x288 with 1 Axes>"
      ]
     },
     "metadata": {
      "needs_background": "light"
     },
     "output_type": "display_data"
    }
   ],
   "source": [
    "movies_per_year = mov.groupby('release_year').mean().index\n",
    "popular = mov.groupby('release_year').mean()['popularity']\n",
    "plt.scatter(movies_per_year,popular, color = 'blue')\n",
    "plt.xlabel('Release Year')\n",
    "plt.ylabel('Popularity')\n",
    "plt.title('Release Year vs Popularity')\n",
    "plt.show()"
   ]
  },
  {
   "cell_type": "markdown",
   "metadata": {},
   "source": [
    "> We see the popularity of the movies increases every year"
   ]
  },
  {
   "cell_type": "markdown",
   "metadata": {},
   "source": [
    "### Research Question 3 (What is the minimum runtime of all the movies?)"
   ]
  },
  {
   "cell_type": "code",
   "execution_count": 123,
   "metadata": {},
   "outputs": [
    {
     "name": "stdout",
     "output_type": "stream",
     "text": [
      "the minimum is: 3.0\n"
     ]
    }
   ],
   "source": [
    "min_runtime = mov['runtime'].min()\n",
    "print(\"the minimum is:\", min_runtime)"
   ]
  },
  {
   "cell_type": "code",
   "execution_count": 124,
   "metadata": {},
   "outputs": [
    {
     "data": {
      "text/plain": [
       "(0.0, 2750.0)"
      ]
     },
     "execution_count": 124,
     "metadata": {},
     "output_type": "execute_result"
    },
    {
     "data": {
      "image/png": "[encoded data removed]",
      "text/plain": [
       "<Figure size 720x504 with 1 Axes>"
      ]
     },
     "metadata": {
      "needs_background": "light"
     },
     "output_type": "display_data"
    }
   ],
   "source": [
    "# Let's draw it\n",
    "plt.xlabel('Runtime') # x label name\n",
    "plt.ylabel('Number Of Movies') # y label name\n",
    "\n",
    "plt.title('Runtime of all the movies') # Title name\n",
    "\n",
    "# plotting the relationship between runtime and number of movies\n",
    "\n",
    "mov['runtime'].hist(bins=100, color = 'black', figsize=(10,7))\n",
    "plt.xlim(0,950)\n",
    "plt.ylim(0,2750)"
   ]
  },
  {
   "cell_type": "code",
   "execution_count": 125,
   "metadata": {},
   "outputs": [
    {
     "name": "stderr",
     "output_type": "stream",
     "text": [
      "C:\\Users\\ksax6\\anaconda3\\lib\\site-packages\\seaborn\\_decorators.py:36: FutureWarning: Pass the following variable as a keyword arg: x. From version 0.12, the only valid positional argument will be `data`, and passing other arguments without an explicit keyword will result in an error or misinterpretation.\n",
      "  warnings.warn(\n"
     ]
    },
    {
     "data": {
      "image/png": "[encoded data removed]",
      "text/plain": [
       "<Figure size 840x840 with 1 Axes>"
      ]
     },
     "metadata": {
      "needs_background": "light"
     },
     "output_type": "display_data"
    }
   ],
   "source": [
    "# plotting a boxplot\n",
    "plt.figure(figsize=(7,7), dpi = 120)\n",
    "sns.boxplot(mov['runtime'])\n",
    "plt.show()"
   ]
  },
  {
   "cell_type": "markdown",
   "metadata": {},
   "source": [
    "> As it shown, I successfully managed to calculate minimum runtime and draw the histogram which contains all movies runtime"
   ]
  },
  {
   "cell_type": "markdown",
   "metadata": {},
   "source": [
    "### Research Question 4: (Which genre has the highest movies?)\n",
    "\n",
    "\n",
    "> We are going to gather all the genres by using str.cat(sep = '|') and after that split them to count every genre"
   ]
  },
  {
   "cell_type": "code",
   "execution_count": 126,
   "metadata": {},
   "outputs": [
    {
     "data": {
      "text/plain": [
       "Drama              4738\n",
       "Comedy             3765\n",
       "Thriller           2900\n",
       "Action             2374\n",
       "Romance            1703\n",
       "Horror             1628\n",
       "Adventure          1464\n",
       "Crime              1352\n",
       "Science Fiction    1220\n",
       "Family             1212\n",
       "Fantasy             907\n",
       "Mystery             806\n",
       "Animation           664\n",
       "Documentary         467\n",
       "Music               394\n",
       "History             330\n",
       "War                 268\n",
       "Foreign             183\n",
       "Western             164\n",
       "TV Movie            159\n",
       "dtype: int64"
      ]
     },
     "execution_count": 126,
     "metadata": {},
     "output_type": "execute_result"
    }
   ],
   "source": [
    "count = pd.Series(mov['genres'].str.cat(sep = '|').split('|')).value_counts()\n",
    "# I needed to go to pandas documentation to know how to apply the 'count' variable to count every genre\n",
    "# So I gathered all the genres by concatenate them into a single string seperated by '|' then I split them using '|'\n",
    "# After that I used .value_counts() to count every genre movies.\n",
    "count"
   ]
  },
  {
   "cell_type": "code",
   "execution_count": 127,
   "metadata": {},
   "outputs": [
    {
     "data": {
      "text/plain": [
       "<AxesSubplot:ylabel='None'>"
      ]
     },
     "execution_count": 127,
     "metadata": {},
     "output_type": "execute_result"
    },
    {
     "data": {
      "image/png": "[encoded data removed]",
      "text/plain": [
       "<Figure size 504x504 with 1 Axes>"
      ]
     },
     "metadata": {},
     "output_type": "display_data"
    }
   ],
   "source": [
    "count.plot.pie(y='genres', figsize=(7, 7), autopct='%1.1f%%', shadow=True)"
   ]
  },
  {
   "cell_type": "markdown",
   "metadata": {},
   "source": [
    "> As we can see, Drama has the highest movies in the dataset\n",
    "\n",
    "\n",
    "\n",
    "\n",
    "### Research Question 5: (Which movie has the highest profit?)"
   ]
  },
  {
   "cell_type": "code",
   "execution_count": 128,
   "metadata": {},
   "outputs": [
    {
     "data": {
      "text/html": [
       "<div>\n",
       "<style scoped>\n",
       "    .dataframe tbody tr th:only-of-type {\n",
       "        vertical-align: middle;\n",
       "    }\n",
       "\n",
       "    .dataframe tbody tr th {\n",
       "        vertical-align: top;\n",
       "    }\n",
       "\n",
       "    .dataframe thead th {\n",
       "        text-align: right;\n",
       "    }\n",
       "</style>\n",
       "<table border=\"1\" class=\"dataframe\">\n",
       "  <thead>\n",
       "    <tr style=\"text-align: right;\">\n",
       "      <th></th>\n",
       "      <th>id</th>\n",
       "      <th>popularity</th>\n",
       "      <th>budget</th>\n",
       "      <th>revenue</th>\n",
       "      <th>profit</th>\n",
       "      <th>original_title</th>\n",
       "      <th>cast</th>\n",
       "      <th>director</th>\n",
       "      <th>runtime</th>\n",
       "      <th>genres</th>\n",
       "      <th>release_year</th>\n",
       "    </tr>\n",
       "  </thead>\n",
       "  <tbody>\n",
       "    <tr>\n",
       "      <th>0</th>\n",
       "      <td>135397</td>\n",
       "      <td>32.985763</td>\n",
       "      <td>150000000.0</td>\n",
       "      <td>1.513529e+09</td>\n",
       "      <td>1.363529e+09</td>\n",
       "      <td>Jurassic World</td>\n",
       "      <td>Chris Pratt|Bryce Dallas Howard|Irrfan Khan|Vi...</td>\n",
       "      <td>Colin Trevorrow</td>\n",
       "      <td>124.0</td>\n",
       "      <td>Action|Adventure|Science Fiction|Thriller</td>\n",
       "      <td>2015</td>\n",
       "    </tr>\n",
       "    <tr>\n",
       "      <th>1</th>\n",
       "      <td>76341</td>\n",
       "      <td>28.419936</td>\n",
       "      <td>150000000.0</td>\n",
       "      <td>3.784364e+08</td>\n",
       "      <td>2.284364e+08</td>\n",
       "      <td>Mad Max: Fury Road</td>\n",
       "      <td>Tom Hardy|Charlize Theron|Hugh Keays-Byrne|Nic...</td>\n",
       "      <td>George Miller</td>\n",
       "      <td>120.0</td>\n",
       "      <td>Action|Adventure|Science Fiction|Thriller</td>\n",
       "      <td>2015</td>\n",
       "    </tr>\n",
       "    <tr>\n",
       "      <th>2</th>\n",
       "      <td>262500</td>\n",
       "      <td>13.112507</td>\n",
       "      <td>110000000.0</td>\n",
       "      <td>2.952382e+08</td>\n",
       "      <td>1.852382e+08</td>\n",
       "      <td>Insurgent</td>\n",
       "      <td>Shailene Woodley|Theo James|Kate Winslet|Ansel...</td>\n",
       "      <td>Robert Schwentke</td>\n",
       "      <td>119.0</td>\n",
       "      <td>Adventure|Science Fiction|Thriller</td>\n",
       "      <td>2015</td>\n",
       "    </tr>\n",
       "    <tr>\n",
       "      <th>3</th>\n",
       "      <td>140607</td>\n",
       "      <td>11.173104</td>\n",
       "      <td>200000000.0</td>\n",
       "      <td>2.068178e+09</td>\n",
       "      <td>1.868178e+09</td>\n",
       "      <td>Star Wars: The Force Awakens</td>\n",
       "      <td>Harrison Ford|Mark Hamill|Carrie Fisher|Adam D...</td>\n",
       "      <td>J.J. Abrams</td>\n",
       "      <td>136.0</td>\n",
       "      <td>Action|Adventure|Science Fiction|Fantasy</td>\n",
       "      <td>2015</td>\n",
       "    </tr>\n",
       "    <tr>\n",
       "      <th>4</th>\n",
       "      <td>168259</td>\n",
       "      <td>9.335014</td>\n",
       "      <td>190000000.0</td>\n",
       "      <td>1.506249e+09</td>\n",
       "      <td>1.316249e+09</td>\n",
       "      <td>Furious 7</td>\n",
       "      <td>Vin Diesel|Paul Walker|Jason Statham|Michelle ...</td>\n",
       "      <td>James Wan</td>\n",
       "      <td>137.0</td>\n",
       "      <td>Action|Crime|Thriller</td>\n",
       "      <td>2015</td>\n",
       "    </tr>\n",
       "  </tbody>\n",
       "</table>\n",
       "</div>"
      ],
      "text/plain": [
       "       id  popularity       budget       revenue        profit  \\\n",
       "0  135397   32.985763  150000000.0  1.513529e+09  1.363529e+09   \n",
       "1   76341   28.419936  150000000.0  3.784364e+08  2.284364e+08   \n",
       "2  262500   13.112507  110000000.0  2.952382e+08  1.852382e+08   \n",
       "3  140607   11.173104  200000000.0  2.068178e+09  1.868178e+09   \n",
       "4  168259    9.335014  190000000.0  1.506249e+09  1.316249e+09   \n",
       "\n",
       "                 original_title  \\\n",
       "0                Jurassic World   \n",
       "1            Mad Max: Fury Road   \n",
       "2                     Insurgent   \n",
       "3  Star Wars: The Force Awakens   \n",
       "4                     Furious 7   \n",
       "\n",
       "                                                cast          director  \\\n",
       "0  Chris Pratt|Bryce Dallas Howard|Irrfan Khan|Vi...   Colin Trevorrow   \n",
       "1  Tom Hardy|Charlize Theron|Hugh Keays-Byrne|Nic...     George Miller   \n",
       "2  Shailene Woodley|Theo James|Kate Winslet|Ansel...  Robert Schwentke   \n",
       "3  Harrison Ford|Mark Hamill|Carrie Fisher|Adam D...       J.J. Abrams   \n",
       "4  Vin Diesel|Paul Walker|Jason Statham|Michelle ...         James Wan   \n",
       "\n",
       "   runtime                                     genres  release_year  \n",
       "0    124.0  Action|Adventure|Science Fiction|Thriller          2015  \n",
       "1    120.0  Action|Adventure|Science Fiction|Thriller          2015  \n",
       "2    119.0         Adventure|Science Fiction|Thriller          2015  \n",
       "3    136.0   Action|Adventure|Science Fiction|Fantasy          2015  \n",
       "4    137.0                      Action|Crime|Thriller          2015  "
      ]
     },
     "execution_count": 128,
     "metadata": {},
     "output_type": "execute_result"
    }
   ],
   "source": [
    "# Adding profit column\n",
    "mov.insert(4,'profit',mov['revenue']-mov['budget'])\n",
    "mov.head()"
   ]
  },
  {
   "cell_type": "code",
   "execution_count": 129,
   "metadata": {},
   "outputs": [
    {
     "data": {
      "text/plain": [
       "id                                                            19995\n",
       "popularity                                                 9.432768\n",
       "budget                                                  237000000.0\n",
       "revenue                                                2781505847.0\n",
       "profit                                                 2544505847.0\n",
       "original_title                                               Avatar\n",
       "cast              Sam Worthington|Zoe Saldana|Sigourney Weaver|S...\n",
       "director                                              James Cameron\n",
       "runtime                                                       162.0\n",
       "genres                     Action|Adventure|Fantasy|Science Fiction\n",
       "release_year                                                   2009\n",
       "Name: 1386, dtype: object"
      ]
     },
     "execution_count": 129,
     "metadata": {},
     "output_type": "execute_result"
    }
   ],
   "source": [
    "mov.loc[mov['profit'].idxmax()] # to find the highest profit movie"
   ]
  },
  {
   "cell_type": "markdown",
   "metadata": {},
   "source": [
    "> As it shown above, 'Avatar' movie has the highest profit in the dataset"
   ]
  },
  {
   "cell_type": "markdown",
   "metadata": {},
   "source": [
    "<a id='conclusions'></a>\n",
    "## Conclusions\n",
    "\n",
    "> **Summary**: After I answered the questions, I noticed the benefits of data analysis, <br>Examples:<br>\n",
    "1- Movies are increasing every year.<br>\n",
    "2- The popularity of the movies increases every year.<br>\n",
    "3- The minimum runtime of the movies is 3.00<br>\n",
    "4- Drama genre has the highest movies in the dataset by 17.7% (4738 movies).<br>\n",
    "5- 'Avatar' movie has the highest profit.<br>\n",
    "\n",
    ">***Limitations***: Probably the biggest limitation I faced is the budget and revenue, the reason is because they have more than 5000 zeros which is almost half the dataset, and in my data analysis if I delete them the accuracy of my analysis will not be accurate because half the data is gone, so I ignored them.<br>\n",
    "Another limitation, there wasn't any column describes the profit so I had to create one.<br>\n",
    "last limitation is the genere splitting, I had to go to pandas documentation to read and understand how to split the '|' symbol\n"
   ]
  }
 ],
 "metadata": {
  "kernelspec": {
   "display_name": "Python 3",
   "language": "python",
   "name": "python3"
  },
  "language_info": {
   "codemirror_mode": {
    "name": "ipython",
    "version": 3
   },
   "file_extension": ".py",
   "mimetype": "text/x-python",
   "name": "python",
   "nbconvert_exporter": "python",
   "pygments_lexer": "ipython3",
   "version": "3.8.8"
  }
 },
 "nbformat": 4,
 "nbformat_minor": 2
}
